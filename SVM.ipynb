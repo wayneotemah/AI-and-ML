{
  "nbformat": 4,
  "nbformat_minor": 0,
  "metadata": {
    "colab": {
      "provenance": [],
      "authorship_tag": "ABX9TyOy1CNJc2635LVJsmmg/P+X",
      "include_colab_link": true
    },
    "kernelspec": {
      "name": "python3",
      "display_name": "Python 3"
    },
    "language_info": {
      "name": "python"
    }
  },
  "cells": [
    {
      "cell_type": "markdown",
      "metadata": {
        "id": "view-in-github",
        "colab_type": "text"
      },
      "source": [
        "<a href=\"https://colab.research.google.com/github/wayneotemah/AI-and-ML/blob/main/SVM.ipynb\" target=\"_parent\"><img src=\"https://colab.research.google.com/assets/colab-badge.svg\" alt=\"Open In Colab\"/></a>"
      ]
    },
    {
      "cell_type": "markdown",
      "source": [
        "# SVM\n",
        "\n",
        "A Support Vector Machine (SVM) is a powerful and versatile Machine Learning model,\n",
        "capable of performing linear or nonlinear classification, regression, and even outlier\n",
        "detection. It is one of the most popular models in Machine Learning, and anyone interested\n",
        "in Machine Learning should have it in their toolbox. SVMs are particularly well suited for\n",
        "classification of complex small- or medium-sized datasets."
      ],
      "metadata": {
        "id": "TspNL4jYVaaB"
      }
    },
    {
      "cell_type": "markdown",
      "source": [
        "# *linear SVM Classification*"
      ],
      "metadata": {
        "id": "yBlcBqR3ZuBj"
      }
    },
    {
      "cell_type": "code",
      "source": [
        "# importing the dependances\n",
        "import numpy as np \n",
        "from sklearn import datasets\n",
        "from sklearn.pipeline import Pipeline\n",
        "from sklearn.preprocessing import StandardScaler\n",
        "from sklearn.svm import LinearSVC,SVC"
      ],
      "metadata": {
        "id": "Zk08t0aRVhXu"
      },
      "execution_count": 17,
      "outputs": []
    },
    {
      "cell_type": "code",
      "source": [
        "# load dataset\n",
        "iris = datasets.load_iris()\n",
        "X = iris[\"data\"][:, (2, 3)] # petal length, petal width\n",
        "y = (iris[\"target\"] == 2).astype(np.float64) # Iris virginica"
      ],
      "metadata": {
        "id": "NnmOiWyIVt4C"
      },
      "execution_count": 18,
      "outputs": []
    },
    {
      "cell_type": "code",
      "source": [
        "svm_clf = Pipeline([\n",
        "(\"scaler\", StandardScaler()),\n",
        "(\"linear_svc\", SVC(kernel=\"linear\", C=1)),\n",
        "])"
      ],
      "metadata": {
        "id": "1yRA2LtNWzEQ"
      },
      "execution_count": 19,
      "outputs": []
    },
    {
      "cell_type": "code",
      "source": [
        "svm_clf.fit(X, y)"
      ],
      "metadata": {
        "colab": {
          "base_uri": "https://localhost:8080/"
        },
        "id": "S5GaU-QVW2fO",
        "outputId": "331ad023-e028-425b-e312-ee667e88c599"
      },
      "execution_count": 20,
      "outputs": [
        {
          "output_type": "execute_result",
          "data": {
            "text/plain": [
              "Pipeline(steps=[('scaler', StandardScaler()),\n",
              "                ('linear_svc', SVC(C=1, kernel='linear'))])"
            ]
          },
          "metadata": {},
          "execution_count": 20
        }
      ]
    },
    {
      "cell_type": "code",
      "source": [
        "svm_clf.predict([[7.5, 0.7]]) #predictt if its Iris virginica or not 1 -> true, 0 -> false"
      ],
      "metadata": {
        "colab": {
          "base_uri": "https://localhost:8080/"
        },
        "id": "IA9zPoH5W53W",
        "outputId": "30c7c7de-3053-441c-fa80-53721467e373"
      },
      "execution_count": 22,
      "outputs": [
        {
          "output_type": "execute_result",
          "data": {
            "text/plain": [
              "array([0.])"
            ]
          },
          "metadata": {},
          "execution_count": 22
        }
      ]
    },
    {
      "cell_type": "markdown",
      "source": [
        "# *Nonlinear SVM Classification*"
      ],
      "metadata": {
        "id": "Blk4VHAmZ2bM"
      }
    },
    {
      "cell_type": "code",
      "source": [
        "# One approach to handling\n",
        "# nonlinear datasets is to add more features, such as polynomial features\n",
        "\n",
        "#moons dataset\n",
        "\n",
        "from sklearn.datasets import make_moons\n",
        "from sklearn.pipeline import Pipeline\n",
        "from sklearn.preprocessing import PolynomialFeatures"
      ],
      "metadata": {
        "id": "Nz5H4OeeaB36"
      },
      "execution_count": 23,
      "outputs": []
    },
    {
      "cell_type": "code",
      "source": [
        "X, y = make_moons(n_samples=100, noise=0.15)\n",
        "polynomial_svm_clf = Pipeline([\n",
        "(\"poly_features\", PolynomialFeatures(degree=3)),\n",
        "(\"scaler\", StandardScaler()),\n",
        "(\"svm_clf\", LinearSVC(C=10, loss=\"hinge\"))\n",
        "])\n",
        "\n"
      ],
      "metadata": {
        "id": "a-aItfrQaTNk"
      },
      "execution_count": 42,
      "outputs": []
    },
    {
      "cell_type": "code",
      "source": [
        "polynomial_svm_clf.fit(X, y)"
      ],
      "metadata": {
        "colab": {
          "base_uri": "https://localhost:8080/"
        },
        "id": "KYMpn4U7a3Vs",
        "outputId": "e46c07e8-0ea0-4817-fed0-33bd782c3404"
      },
      "execution_count": 43,
      "outputs": [
        {
          "output_type": "execute_result",
          "data": {
            "text/plain": [
              "Pipeline(steps=[('poly_features', PolynomialFeatures(degree=3)),\n",
              "                ('scaler', StandardScaler()),\n",
              "                ('svm_clf', LinearSVC(C=10, loss='hinge'))])"
            ]
          },
          "metadata": {},
          "execution_count": 43
        }
      ]
    },
    {
      "cell_type": "code",
      "source": [
        "from matplotlib import pyplot as plt\n",
        "\n",
        "def plot_decision_boundary(clf, x_range, y_range):\n",
        "    xx, yy = np.meshgrid(np.linspace(*x_range, num=200),\n",
        "                         np.linspace(*y_range, num=200))\n",
        "    Z = clf.predict(np.c_[xx.ravel(), yy.ravel()])\n",
        "    Z = Z.reshape(xx.shape)\n",
        "\n",
        "    plt.contourf(xx, yy, Z, cmap=plt.cm.brg, alpha=0.2)\n",
        "    plt.scatter(*X.T, c=y, cmap=plt.cm.brg, edgecolors='k')"
      ],
      "metadata": {
        "id": "QYEAojPXdDQX"
      },
      "execution_count": 37,
      "outputs": []
    },
    {
      "cell_type": "code",
      "source": [
        "plot_decision_boundary(polynomial_svm_clf, x_range=(-1.5, 2.5), y_range=(-1, 1.5))\n",
        "plt.show()"
      ],
      "metadata": {
        "colab": {
          "base_uri": "https://localhost:8080/",
          "height": 269
        },
        "id": "TUWuQKb9dxAO",
        "outputId": "4c1c8520-f540-4a95-d2ff-b9b20e5cb917"
      },
      "execution_count": 44,
      "outputs": [
        {
          "output_type": "display_data",
          "data": {
            "text/plain": [
              "<Figure size 432x288 with 1 Axes>"
            ],
            "image/png": "[encoded data removed]"
          },
          "metadata": {
            "needs_background": "light"
          }
        }
      ]
    },
    {
      "cell_type": "code",
      "source": [
        "X"
      ],
      "metadata": {
        "colab": {
          "base_uri": "https://localhost:8080/"
        },
        "id": "NSukePESd1pJ",
        "outputId": "a47fd570-b317-4764-9ceb-a4a6189c6486"
      },
      "execution_count": 34,
      "outputs": [
        {
          "output_type": "execute_result",
          "data": {
            "text/plain": [
              "array([[ 2.19190754e+00,  4.02245648e-01],\n",
              "       [ 3.27037122e-01,  1.23120473e-01],\n",
              "       [-8.92049977e-01, -2.25531460e-01],\n",
              "       [ 8.82680282e-01,  7.04318392e-01],\n",
              "       [-8.12838424e-02,  9.52612198e-01],\n",
              "       [ 1.03849162e+00, -6.40986425e-01],\n",
              "       [-8.76925987e-01,  5.31684233e-02],\n",
              "       [ 2.37764700e-01, -2.55766818e-02],\n",
              "       [-6.59426868e-01,  5.09699678e-01],\n",
              "       [ 7.48334584e-03,  9.51987028e-01],\n",
              "       [ 3.12732286e-01, -1.85789013e-01],\n",
              "       [ 1.05254607e+00, -6.15700800e-01],\n",
              "       [-7.87762869e-01,  3.84063536e-01],\n",
              "       [ 1.58960293e-01,  8.25030967e-01],\n",
              "       [ 2.28520939e-01,  1.10047337e+00],\n",
              "       [ 1.53389461e+00,  3.70203790e-02],\n",
              "       [ 1.20453155e+00, -4.11440888e-01],\n",
              "       [-7.31896303e-02,  8.36914534e-01],\n",
              "       [ 1.94704718e+00,  2.74856484e-01],\n",
              "       [ 6.78356128e-01,  7.51575137e-01],\n",
              "       [-8.25454940e-01,  8.93587758e-02],\n",
              "       [ 2.03866034e+00, -1.76325275e-01],\n",
              "       [ 2.16582579e-02,  5.60546498e-01],\n",
              "       [ 3.09896536e-01,  2.10059900e-01],\n",
              "       [ 9.16652682e-01,  8.61318327e-01],\n",
              "       [-9.43709697e-02,  7.67359629e-01],\n",
              "       [ 4.92755245e-01, -3.27313027e-01],\n",
              "       [ 1.81676524e+00,  5.49049705e-01],\n",
              "       [ 4.19170199e-01, -4.49858173e-01],\n",
              "       [ 4.51491670e-01,  1.10169061e+00],\n",
              "       [ 8.60035484e-01,  2.93660024e-01],\n",
              "       [ 1.87275943e+00,  4.57722959e-02],\n",
              "       [ 1.04360511e+00,  5.64857343e-01],\n",
              "       [ 2.57477402e-01,  7.31978381e-02],\n",
              "       [ 1.28910145e+00, -2.90155987e-01],\n",
              "       [-8.48781374e-01,  1.19324355e-01],\n",
              "       [ 1.66001684e+00, -1.47048593e-01],\n",
              "       [-1.24306795e-01,  3.58537234e-01],\n",
              "       [ 1.31402550e-01, -2.82708038e-01],\n",
              "       [-1.11261406e+00,  1.41652041e-01],\n",
              "       [ 1.06693318e+00,  2.59478425e-01],\n",
              "       [ 9.35733339e-02,  1.90921111e-01],\n",
              "       [ 1.18247646e+00, -6.17072155e-01],\n",
              "       [-2.96667903e-02,  1.13796475e+00],\n",
              "       [ 1.01432086e+00, -5.74604171e-01],\n",
              "       [ 6.98026530e-01,  4.53133198e-01],\n",
              "       [ 1.98099507e+00,  7.91644502e-02],\n",
              "       [ 1.71979396e+00, -5.07693935e-01],\n",
              "       [ 4.04734329e-01,  9.81362086e-01],\n",
              "       [ 1.09466006e+00,  2.27843070e-01],\n",
              "       [-4.94632306e-01,  7.33414250e-01],\n",
              "       [ 1.39869285e+00, -3.85814038e-01],\n",
              "       [-7.69050140e-01,  7.81433134e-01],\n",
              "       [-8.98346369e-01,  5.37390335e-01],\n",
              "       [ 7.04945484e-01,  6.34932012e-01],\n",
              "       [-4.88356413e-01,  8.20541761e-01],\n",
              "       [-7.92285705e-01,  1.50476872e-01],\n",
              "       [ 1.62901131e+00, -3.64071083e-01],\n",
              "       [ 3.33755113e-02,  5.52865969e-03],\n",
              "       [ 1.84771274e+00, -4.54432671e-02],\n",
              "       [ 2.23034694e-01,  3.62049774e-01],\n",
              "       [ 7.84700168e-01,  6.99514852e-01],\n",
              "       [ 7.37070419e-01, -5.89039866e-01],\n",
              "       [ 1.00515829e+00,  4.82122222e-05],\n",
              "       [ 2.04731643e+00,  4.42551158e-01],\n",
              "       [-5.94224287e-01,  9.94558888e-01],\n",
              "       [-1.88192032e-01,  9.54480646e-01],\n",
              "       [ 9.14316766e-01,  8.51818196e-02],\n",
              "       [ 7.79031376e-01,  1.11284846e-01],\n",
              "       [-8.41167795e-01,  5.74856244e-01],\n",
              "       [ 7.58293300e-01,  5.22149803e-01],\n",
              "       [-8.75075799e-01,  1.39699628e-01],\n",
              "       [ 4.48245507e-01,  9.91062721e-01],\n",
              "       [ 1.28374485e+00, -5.07096602e-01],\n",
              "       [ 2.99324730e-01, -3.14612578e-01],\n",
              "       [ 5.76714479e-01, -4.23336931e-01],\n",
              "       [ 1.84736897e+00,  2.10456384e-01],\n",
              "       [ 2.26871477e-01,  1.01271711e+00],\n",
              "       [ 9.88366669e-01, -6.64911872e-01],\n",
              "       [ 1.69146575e+00, -3.38713018e-02],\n",
              "       [ 1.09298892e+00,  1.99719599e-01],\n",
              "       [ 5.86905551e-01, -4.36957248e-01],\n",
              "       [-8.06660725e-01,  5.12978776e-01],\n",
              "       [-1.02084062e-01,  9.82585292e-01],\n",
              "       [ 1.65497785e+00, -6.91090586e-01],\n",
              "       [ 1.91902904e+00,  1.10503089e-01],\n",
              "       [ 7.10722801e-01, -5.52275847e-01],\n",
              "       [ 1.01667340e+00,  2.40944148e-01],\n",
              "       [-4.78915968e-01,  5.96106789e-01],\n",
              "       [-1.59537338e-01,  9.96149173e-01],\n",
              "       [ 5.61694479e-01, -6.59297413e-01],\n",
              "       [-2.16763192e-01,  1.02453166e+00],\n",
              "       [ 5.21856674e-01,  6.91420134e-01],\n",
              "       [-4.99250437e-01,  8.21285143e-01],\n",
              "       [ 1.01741105e+00, -4.88298972e-01],\n",
              "       [ 1.55075557e+00, -5.20209982e-01],\n",
              "       [ 9.96503139e-01, -3.00028588e-01],\n",
              "       [ 4.40929981e-01, -6.74759037e-01],\n",
              "       [ 5.35831035e-01, -2.79734098e-01],\n",
              "       [ 3.33280089e-01,  1.09795710e+00]])"
            ]
          },
          "metadata": {},
          "execution_count": 34
        }
      ]
    },
    {
      "cell_type": "code",
      "source": [],
      "metadata": {
        "id": "R4OPoSvzeTzR"
      },
      "execution_count": null,
      "outputs": []
    }
  ]
}