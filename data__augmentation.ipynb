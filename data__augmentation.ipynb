{
  "nbformat": 4,
  "nbformat_minor": 0,
  "metadata": {
    "colab": {
      "provenance": [],
      "authorship_tag": "ABX9TyM8kut9pUDRJ33FDS3jIs5A",
      "include_colab_link": true
    },
    "kernelspec": {
      "name": "python3",
      "display_name": "Python 3"
    },
    "language_info": {
      "name": "python"
    }
  },
  "cells": [
    {
      "cell_type": "markdown",
      "metadata": {
        "id": "view-in-github",
        "colab_type": "text"
      },
      "source": [
        "<a href=\"https://colab.research.google.com/github/wayneotemah/AI-and-ML/blob/main/data__augmentation.ipynb\" target=\"_parent\"><img src=\"https://colab.research.google.com/assets/colab-badge.svg\" alt=\"Open In Colab\"/></a>"
      ]
    },
    {
      "cell_type": "markdown",
      "source": [
        "# Exersice 2\n",
        "Write a function that can shift an MNIST image in any direction\n",
        "(left, right, up, or down) by one pixel.5 Then, for each image in\n",
        "the training set, create four shifted copies (one per direction) and\n",
        "add them to the training set. Finally, train your best model on this\n",
        "expanded training set and measure its accuracy on the test set.\n",
        "You should observe that your model performs even better now!\n",
        "This technique of artificially growing the training set is called\n",
        "data augmentation or training set expansion."
      ],
      "metadata": {
        "id": "FxGBTpnKcbnH"
      }
    },
    {
      "cell_type": "code",
      "source": [
        "#import neccessary libraires \n",
        "from sklearn.neighbors import KNeighborsClassifier\n",
        "from sklearn.metrics import accuracy_score\n",
        "\n",
        "#fetch the dataset \n",
        "from sklearn.datasets import fetch_openml\n",
        "mnist = fetch_openml('mnist_784',version=1)"
      ],
      "metadata": {
        "id": "tjvSeNZOci95"
      },
      "execution_count": 101,
      "outputs": []
    },
    {
      "cell_type": "code",
      "source": [
        "# Split the data\n",
        "X,y = mnist['data'],mnist['target']\n",
        "X_train, X_test, y_train, y_test = X[:60000], X[60000:], y[:60000],y[60000:]"
      ],
      "metadata": {
        "id": "A1ZDTnaLcqXt"
      },
      "execution_count": 102,
      "outputs": []
    },
    {
      "cell_type": "code",
      "source": [
        "import random\n",
        "rnd = random.randrange(900)\n",
        "Test_case = X_test.iloc[rnd].to_numpy()"
      ],
      "metadata": {
        "id": "AgrMMBls8GfB"
      },
      "execution_count": 103,
      "outputs": []
    },
    {
      "cell_type": "code",
      "source": [
        "import matplotlib as mpl\n",
        "import matplotlib.pyplot as plt\n",
        "import numpy as np"
      ],
      "metadata": {
        "id": "Eaub98gH9WLT"
      },
      "execution_count": 104,
      "outputs": []
    },
    {
      "cell_type": "code",
      "source": [
        "def shift_down(arr, step):\n",
        "  #shitp down\n",
        "  x = arr.reshape(28, 28)\n",
        "\n",
        "  x = x[:-step]\n",
        "  fill =  np.full((step, 28), 0)\n",
        "  x = np.concatenate((fill, x))\n",
        "  plt.imshow(x, cmap=\"binary\")\n",
        "  plt.axis(\"off\")\n",
        "  plt.show()\n",
        "  return x\n",
        "  \n",
        "\n",
        "shift_down(Test_case,6)"
      ],
      "metadata": {
        "colab": {
          "base_uri": "https://localhost:8080/",
          "height": 248
        },
        "id": "tN2o0XQ27u_S",
        "outputId": "0c849075-f138-4567-96cb-a2ac977f0366"
      },
      "execution_count": 105,
      "outputs": [
        {
          "output_type": "display_data",
          "data": {
            "text/plain": [
              "<Figure size 432x288 with 1 Axes>"
            ],
            "image/png": "[encoded data removed]"
          },
          "metadata": {
            "needs_background": "light"
          }
        }
      ]
    },
    {
      "cell_type": "code",
      "source": [
        "def shift_up(arr, step):\n",
        "  #shitp down\n",
        "  x = arr.reshape(28, 28)\n",
        "  o = x\n",
        "  #shift up\n",
        "  x = arr.reshape(28, 28)\n",
        "  x = x[step:]\n",
        "  fill =  np.full((step, 28), 0)\n",
        "  x = np.concatenate((x, fill))\n",
        "  plt.imshow(x, cmap=\"binary\")\n",
        "  plt.axis(\"off\")\n",
        "  plt.show()\n",
        "  return x\n",
        "\n",
        "\n",
        "shift_up(Test_case,6)\n",
        "\n"
      ],
      "metadata": {
        "colab": {
          "base_uri": "https://localhost:8080/",
          "height": 248
        },
        "id": "ivRTUtxtdCb2",
        "outputId": "e82fff46-941e-4543-9006-3a82f3fb867b"
      },
      "execution_count": 106,
      "outputs": [
        {
          "output_type": "display_data",
          "data": {
            "text/plain": [
              "<Figure size 432x288 with 1 Axes>"
            ],
            "image/png": "[encoded data removed]"
          },
          "metadata": {
            "needs_background": "light"
          }
        }
      ]
    },
    {
      "cell_type": "code",
      "source": [
        "def shift_right(arr, step):\n",
        "  x = arr.reshape(28, 28)\n",
        "  o = x\n",
        "  new_o = np.array([])\n",
        "  for A in  o :\n",
        "    fill =  np.full((step), 0)\n",
        "    A = A[:-step]\n",
        "    A = np.concatenate((fill,A))\n",
        "    new_o = np.concatenate((new_o, A))\n",
        "\n",
        "  \n",
        "  new_o = new_o.reshape(28, 28)\n",
        "  plt.imshow(new_o, cmap=\"binary\")\n",
        "  plt.axis(\"off\")\n",
        "  plt.show()\n",
        "  return new_o\n",
        "\n",
        "shift_right(Test_case,6)"
      ],
      "metadata": {
        "colab": {
          "base_uri": "https://localhost:8080/",
          "height": 248
        },
        "id": "BujIizj093XH",
        "outputId": "83279f61-16f7-46c0-8a9c-85b67e09ec73"
      },
      "execution_count": 107,
      "outputs": [
        {
          "output_type": "display_data",
          "data": {
            "text/plain": [
              "<Figure size 432x288 with 1 Axes>"
            ],
            "image/png": "[encoded data removed]"
          },
          "metadata": {
            "needs_background": "light"
          }
        }
      ]
    },
    {
      "cell_type": "code",
      "source": [
        "def shift_left(arr, step):\n",
        "  o = arr.reshape(28, 28)\n",
        "\n",
        "  left_step = (28-step)\n",
        "  print(left_step)\n",
        "  new_o = np.array([])\n",
        "  for A in  o :\n",
        "    fill =  np.full((step), 0)\n",
        "    A = A[-left_step:]\n",
        "    A = np.concatenate((A,fill))\n",
        "    new_o = np.concatenate((new_o, A))\n",
        "\n",
        "  new_o = new_o.reshape(28, 28)\n",
        "  plt.imshow(new_o, cmap=\"binary\")\n",
        "  plt.axis(\"off\")\n",
        "  plt.show()\n",
        "  return new_o\n",
        "\n",
        "shift_left(Test_case,6)"
      ],
      "metadata": {
        "colab": {
          "base_uri": "https://localhost:8080/",
          "height": 265
        },
        "id": "pCqOvJ5y-Woo",
        "outputId": "1e56d0d5-d1af-4527-b0ab-b9e35ee5a397"
      },
      "execution_count": 109,
      "outputs": [
        {
          "output_type": "stream",
          "name": "stdout",
          "text": [
            "22\n"
          ]
        },
        {
          "output_type": "display_data",
          "data": {
            "text/plain": [
              "<Figure size 432x288 with 1 Axes>"
            ],
            "image/png": "[encoded data removed]"
          },
          "metadata": {
            "needs_background": "light"
          }
        }
      ]
    }
  ]
}