{
  "nbformat": 4,
  "nbformat_minor": 0,
  "metadata": {
    "colab": {
      "provenance": [],
      "authorship_tag": "ABX9TyO4D1dKG/qaC3AJdbWbhVr1",
      "include_colab_link": true
    },
    "kernelspec": {
      "name": "python3",
      "display_name": "Python 3"
    },
    "language_info": {
      "name": "python"
    }
  },
  "cells": [
    {
      "cell_type": "markdown",
      "metadata": {
        "id": "view-in-github",
        "colab_type": "text"
      },
      "source": [
        "<a href=\"https://colab.research.google.com/github/wayneotemah/AI-and-ML/blob/main/data__augmentation.ipynb\" target=\"_parent\"><img src=\"https://colab.research.google.com/assets/colab-badge.svg\" alt=\"Open In Colab\"/></a>"
      ]
    },
    {
      "cell_type": "markdown",
      "source": [
        "# Exersice 2\n",
        "Write a function that can shift an MNIST image in any direction\n",
        "(left, right, up, or down) by one pixel.5 Then, for each image in\n",
        "the training set, create four shifted copies (one per direction) and\n",
        "add them to the training set. Finally, train your best model on this\n",
        "expanded training set and measure its accuracy on the test set.\n",
        "You should observe that your model performs even better now!\n",
        "This technique of artificially growing the training set is called\n",
        "data augmentation or training set expansion."
      ],
      "metadata": {
        "id": "FxGBTpnKcbnH"
      }
    },
    {
      "cell_type": "code",
      "source": [
        "#import neccessary libraires \n",
        "from sklearn.neighbors import KNeighborsClassifier\n",
        "from sklearn.metrics import accuracy_score\n",
        "\n",
        "#fetch the dataset \n",
        "from sklearn.datasets import fetch_openml\n",
        "mnist = fetch_openml('mnist_784',version=1)"
      ],
      "metadata": {
        "id": "tjvSeNZOci95"
      },
      "execution_count": 1,
      "outputs": []
    },
    {
      "cell_type": "code",
      "source": [
        "# Split the data\n",
        "X,y = mnist['data'],mnist['target']\n",
        "y = y.astype(np.uint8)\n",
        "\n",
        "\n",
        "X_train, X_test, y_train, y_test = X[:60000], X[60000:], y[:60000],y[60000:]"
      ],
      "metadata": {
        "id": "A1ZDTnaLcqXt"
      },
      "execution_count": 54,
      "outputs": []
    },
    {
      "cell_type": "code",
      "source": [
        "import matplotlib as mpl\n",
        "import matplotlib.pyplot as plt\n",
        "import numpy as np"
      ],
      "metadata": {
        "id": "Eaub98gH9WLT"
      },
      "execution_count": 55,
      "outputs": []
    },
    {
      "cell_type": "code",
      "source": [
        "def shift_down(arr, step):\n",
        "  #shitp down\n",
        "  x = arr.reshape(28, 28)\n",
        "  x = x[:-step]\n",
        "  fill =  np.full((step, 28), 0)\n",
        "  x = np.concatenate((fill, x))\n",
        "  x = x.reshape(784)\n",
        "  return x"
      ],
      "metadata": {
        "id": "tN2o0XQ27u_S"
      },
      "execution_count": 56,
      "outputs": []
    },
    {
      "cell_type": "code",
      "source": [
        "def shift_up(arr, step):\n",
        "  #shift up\n",
        "  x = arr.reshape(28, 28)\n",
        "  x = arr.reshape(28, 28)\n",
        "  x = x[step:]\n",
        "  fill =  np.full((step, 28), 0)\n",
        "  x = np.concatenate((x, fill))\n",
        "  x = x.reshape(784)\n",
        "  return x"
      ],
      "metadata": {
        "id": "ivRTUtxtdCb2"
      },
      "execution_count": 57,
      "outputs": []
    },
    {
      "cell_type": "code",
      "source": [
        "def shift_right(arr, step):\n",
        "  x = arr.reshape(28, 28)\n",
        "  o = x\n",
        "  new_o = np.array([])\n",
        "  for A in  o :\n",
        "    fill =  np.full((step), 0)\n",
        "    A = A[:-step]\n",
        "    A = np.concatenate((fill,A))\n",
        "    new_o = np.concatenate((new_o, A))\n",
        "  return new_o\n"
      ],
      "metadata": {
        "id": "BujIizj093XH"
      },
      "execution_count": 58,
      "outputs": []
    },
    {
      "cell_type": "code",
      "source": [
        "def shift_left(arr, step):\n",
        "  o = arr.reshape(28, 28)\n",
        "\n",
        "  left_step = (28-step)\n",
        "  new_o = np.array([])\n",
        "  for A in  o :\n",
        "    fill =  np.full((step), 0)\n",
        "    A = A[-left_step:]\n",
        "    A = np.concatenate((A,fill))\n",
        "    new_o = np.concatenate((new_o, A))\n",
        "\n",
        "  return new_o"
      ],
      "metadata": {
        "id": "pCqOvJ5y-Woo"
      },
      "execution_count": 59,
      "outputs": []
    },
    {
      "cell_type": "code",
      "source": [
        "X_expanded = np.zeros((X_train.shape[0] * 5, X_train.shape[1]))\n",
        "y_expanded = np.zeros((y_train.shape[0] * 5,))\n",
        "\n",
        "for i in range(X_train.shape[0]):\n",
        "  image = X_train.iloc[i].to_numpy() # get originol image\n",
        "\n",
        "\n",
        "   # Add the original image and the shifted copies to the expanded training set\n",
        "\n",
        "  X_expanded[i * 5] = image                     # add old array to the new training set\n",
        "  X_expanded[i * 5 + 1] = shift_left(image,1)   #shitf Arr left and save new array in X_new_training_set\n",
        "  X_expanded[i * 5 + 2] = shift_right(image,1)  # shift Arr right\n",
        "  X_expanded[i * 5 + 3] = shift_up(image,1)     # shift Arr up\n",
        "  X_expanded[i * 5 + 4] = shift_down(image,1)   # shift Arr down\n",
        "\n",
        "   \n",
        "  y_expanded[i * 5] = y_train[i]\n",
        "  y_expanded[i * 5 + 1] = y_train[i]\n",
        "  y_expanded[i * 5 + 2] = y_train[i]\n",
        "  y_expanded[i * 5 + 3] = y_train[i]\n"
      ],
      "metadata": {
        "id": "EJvXKeTXDSFz"
      },
      "execution_count": 60,
      "outputs": []
    },
    {
      "cell_type": "code",
      "source": [
        "model = KNeighborsClassifier(n_neighbors=3)\n",
        "model.fit(X_expanded, y_expanded)"
      ],
      "metadata": {
        "colab": {
          "base_uri": "https://localhost:8080/"
        },
        "id": "F_m-yVXbNcXR",
        "outputId": "e7c457ee-28e8-42a8-e70f-e2eb5542c669"
      },
      "execution_count": 61,
      "outputs": [
        {
          "output_type": "execute_result",
          "data": {
            "text/plain": [
              "KNeighborsClassifier(n_neighbors=3)"
            ]
          },
          "metadata": {},
          "execution_count": 61
        }
      ]
    },
    {
      "cell_type": "code",
      "source": [
        "y_pred = model.predict(X_test)"
      ],
      "metadata": {
        "colab": {
          "base_uri": "https://localhost:8080/"
        },
        "id": "RWp_OMLdSvp_",
        "outputId": "78163794-1a3d-4509-ef1e-70d18dd8e828"
      },
      "execution_count": 62,
      "outputs": [
        {
          "output_type": "stream",
          "name": "stderr",
          "text": [
            "/usr/local/lib/python3.8/dist-packages/sklearn/base.py:443: UserWarning: X has feature names, but KNeighborsClassifier was fitted without feature names\n",
            "  warnings.warn(\n"
          ]
        }
      ]
    },
    {
      "cell_type": "code",
      "source": [
        "accuracy = accuracy_score(y_test, y_pred)\n",
        "accuracy*100"
      ],
      "metadata": {
        "colab": {
          "base_uri": "https://localhost:8080/"
        },
        "id": "skcHc1KmUnIQ",
        "outputId": "a00655c9-50a5-434c-a975-9c6691a33a23"
      },
      "execution_count": 63,
      "outputs": [
        {
          "output_type": "execute_result",
          "data": {
            "text/plain": [
              "87.09"
            ]
          },
          "metadata": {},
          "execution_count": 63
        }
      ]
    },
    {
      "cell_type": "code",
      "source": [
        "from sklearn.metrics import confusion_matrix\n",
        "from sklearn.metrics import precision_score, recall_score\n",
        "from sklearn.metrics import f1_score\n",
        "\n",
        "conf_mx = confusion_matrix(y_test, y_pred)\n",
        "print(f'confussion metrix')\n",
        "print(f'{conf_mx}')"
      ],
      "metadata": {
        "colab": {
          "base_uri": "https://localhost:8080/"
        },
        "id": "vqyr-gytU49i",
        "outputId": "7f044ebb-79a6-4f44-d62f-5691ee918edb"
      },
      "execution_count": 64,
      "outputs": [
        {
          "output_type": "stream",
          "name": "stdout",
          "text": [
            "confussion metrix\n",
            "[[975   1   1   0   0   0   2   1   0   0]\n",
            " [157 977   1   0   0   0   0   0   0   0]\n",
            " [122   1 894   2   1   0   0  11   1   0]\n",
            " [135   1   3 857   0   7   0   4   2   1]\n",
            " [125   3   0   0 833   0   3   2   0  16]\n",
            " [123   2   0   7   0 752   2   1   3   2]\n",
            " [113   4   0   0   2   2 837   0   0   0]\n",
            " [113   7   1   1   2   0   0 900   0   4]\n",
            " [135   0   4   9   2   6   0   3 812   3]\n",
            " [115   3   1   5   4   3   1   5   0 872]]\n"
          ]
        }
      ]
    },
    {
      "cell_type": "code",
      "source": [
        "import matplotlib as mpl\n",
        "import matplotlib.pyplot as plt\n",
        "plt.matshow(conf_mx, cmap=plt.cm.gray)\n",
        "plt.show()"
      ],
      "metadata": {
        "colab": {
          "base_uri": "https://localhost:8080/",
          "height": 275
        },
        "id": "CVegeOTrUoa-",
        "outputId": "ffbe89d4-e330-40c7-ed71-8b806f00c024"
      },
      "execution_count": 65,
      "outputs": [
        {
          "output_type": "display_data",
          "data": {
            "text/plain": [
              "<Figure size 288x288 with 1 Axes>"
            ],
            "image/png": "[encoded data removed]"
          },
          "metadata": {
            "needs_background": "light"
          }
        }
      ]
    }
  ]
}